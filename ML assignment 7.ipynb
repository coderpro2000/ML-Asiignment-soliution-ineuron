{
 "cells": [
  {
   "cell_type": "code",
   "execution_count": null,
   "id": "93038ca5",
   "metadata": {},
   "outputs": [],
   "source": [
    "Ques1 .What is the definition of a target function? In the sense of a real-life example, express the target function. How is a target\n",
    "functions fitness assessed?\n",
    "\n",
    "Ans- Target function, you can imagine it as the true predictor or a God-given Model. It can predict with 100% accuracy on the future data.\n",
    "\n",
    "This is a function that knows and maps a full-relationship of the features/input variables to the Response/Output variable. Or, \n",
    "you can just treat it as imaginary function that always correct at every predictions.\n",
    "\n",
    "In a (supervised) machine learning, your task is to select a function from the uncountable hypothesis functions that is closest \n",
    "to the target function."
   ]
  },
  {
   "cell_type": "code",
   "execution_count": null,
   "id": "81efd279",
   "metadata": {},
   "outputs": [],
   "source": [
    "Ques2 What are predictive models, and how do they work? What are descriptive types, and how do you\n",
    "use them? Examples of both types of models should be provided. Distinguish between these two\n",
    "forms of models.\n",
    "\n",
    "Descriptive Analytics: Insight into the past\n",
    "\n",
    "Descriptive analysis or statistics does exactly what the name implies: they “describe”, or summarize, raw data and make it \n",
    "    something that is interpretable by humans. They are analytics that describe the past. The past refers to any point of \n",
    "    time that an event has occurred, whether it is one minute ago, or one year ago. Descriptive analytics are useful because \n",
    "    they allow us to learn from past behaviors, and understand how they might influence future outcomes.\n",
    "    \n",
    "Predictive Analytics: Understanding the future\n",
    "\n",
    "Predictive analytics has its roots in the ability to “predict” what might happen. These analytics are about understanding the \n",
    "future. Predictive analytics provides companies with actionable insights based on data. Predictive analytics provides estimates\n",
    "about the likelihood of a future outcome. It is important to remember that no statistical algorithm can “predict” the future \n",
    "with 100% certainty. Companies use these statistics to forecast what might happen in the future. This is because the foundation\n",
    "of predictive analytics is based on probabilities.    "
   ]
  },
  {
   "cell_type": "code",
   "execution_count": null,
   "id": "b62a29e9",
   "metadata": {},
   "outputs": [],
   "source": [
    "Ques3. Describe the method of assessing a classification models efficiency in detail. Describe the various\n",
    "measurement parameters.\n",
    "\n",
    "Ans - Classification is a supervised learning approach in which a target variable is discrete (or categorical). Evaluating a \n",
    "machine learning model is as important as building it. We are creating models to perform on new, previously unseen data. Hence,\n",
    "a thorough and versatile evaluation is required to create a robust model. When it comes to classification models, evaluation \n",
    "process gets somewhat tricky.\n",
    "In this post, I will try to provide a detailed guide on how to evaluate a classification model including a range of different \n",
    "metrics with their advantages and shortcomings.\n",
    "The concepts I will cover:\n",
    "Classification accuracy\n",
    "Confusion matrix\n",
    "Precision and recall\n",
    "F1 score\n",
    "Sensitivity and specificity\n",
    "ROC curve and AUC"
   ]
  },
  {
   "cell_type": "code",
   "execution_count": null,
   "id": "592ba1e3",
   "metadata": {},
   "outputs": [],
   "source": [
    "Ques4  In the sense of machine learning models, what is underfitting? What is the most common\n",
    "reason for underfitting?\n",
    "Ans4 Underfitting destroys the accuracy of our machine learning model. Its occurrence simply means that our model or the\n",
    "algorithm does not fit the data well enough. It usually happens when we have less data to build an accurate model and also \n",
    "when we try to build a linear model with fewer non-linear data"
   ]
  },
  {
   "cell_type": "code",
   "execution_count": null,
   "id": "5576e859",
   "metadata": {},
   "outputs": [],
   "source": [
    "Ques5  Is it possible to boost the efficiency of a learning model? If so, please clarify how.\n",
    "\n",
    "Ans 8 Methods to Boost the Accuracy of a Model\n",
    "Add more data. Having more data is always a good idea. ...\n",
    "Treat missing and Outlier values. ...\n",
    "Feature Engineering. ...\n",
    "Feature Selection. ...\n",
    "Multiple algorithms. ...\n",
    "Algorithm Tuning. ...\n",
    "Ensemble methods."
   ]
  },
  {
   "cell_type": "code",
   "execution_count": null,
   "id": "db79e440",
   "metadata": {},
   "outputs": [],
   "source": [
    "Ques 6 How would you rate an unsupervised learning models success? What are the most common\n",
    "success indicators for an unsupervised learning model?\n",
    "\n",
    "Ans Twin sample validation can be used to validate results of unsupervised learning. It should be used in combination with\n",
    "internal validation. It can prove to be highly useful in case of time-series data where we want to ensure that our results \n",
    "remain same across time."
   ]
  },
  {
   "cell_type": "code",
   "execution_count": null,
   "id": "02a32835",
   "metadata": {},
   "outputs": [],
   "source": [
    "Ques7 Is it possible to use a classification model for numerical data or a regression model for categorical\n",
    "data with a classification model? Explain your answer.\n",
    "\n",
    "Ans7 Classification Predictive Modeling\n",
    "In machine learning, classification refers to a predictive modeling problem where a class label is predicted for a given example\n",
    "of input data.\n",
    "\n",
    "Examples of classification problems include:\n",
    "\n",
    "Given an example, classify if it is spam or not.\n",
    "Given a handwritten character, classify it as one of the known characters.\n",
    "Given recent user behavior, classify as churn or not.\n",
    "From a modeling perspective, classification requires a training dataset with many examples of inputs and outputs from which to\n",
    "learn.\n",
    "\n",
    "A model will use the training dataset and will calculate how to best map examples of input data to specific class labels.\n",
    "As such, the training dataset must be sufficiently representative of the problem and have many examples of each class label."
   ]
  },
  {
   "cell_type": "code",
   "execution_count": null,
   "id": "045359ae",
   "metadata": {},
   "outputs": [],
   "source": [
    "Ques 8 Describe the predictive modeling method for numerical values. What distinguishes it from\n",
    "categorical predictive modeling?\n",
    "\n",
    "Classification Model\n",
    "The classification model is, in some ways, the simplest of the several types of predictive analytics models we’re going to cover\n",
    ". It puts data in categories based on what it learns from historical data.\n",
    "Clustering Model\n",
    "The clustering model sorts data into separate, nested smart groups based on similar attributes. If an ecommerce shoe company is\n",
    "looking to implement targeted marketing campaigns for their customers, they could go through the hundreds of thousands of \n",
    "records to create a tailored strategy for each individual.\n",
    "Forecast Model\n",
    "One of the most widely used predictive analytics models, the forecast model deals in metric value prediction, estimating\n",
    "numeric value for new data based on learnings from historical data."
   ]
  },
  {
   "cell_type": "code",
   "execution_count": null,
   "id": "fc26d159",
   "metadata": {},
   "outputs": [],
   "source": [
    "Hold-out\n",
    "Hold-out is when you split up your dataset into a ‘train’ and ‘test’ set. The training set is what the model is trained on, \n",
    "and the test set is used to see how well that model performs on unseen data. A common split when using the hold-out method is using 80% of data for training and the remaining 20% of the data for testing.\n",
    "Cross-validation\n",
    "Cross-validation or ‘k-fold cross-validation’ is when the dataset is randomly split up into ‘k’ groups. One of the groups\n",
    "is used as the test set and the rest are used as the training set. The model is trained on the training set and scored on\n",
    "the test set. Then the process is repeated until each unique group as been used as the test set."
   ]
  },
  {
   "cell_type": "code",
   "execution_count": null,
   "id": "7f1731c3",
   "metadata": {},
   "outputs": [],
   "source": [
    "The Average Silhouette Width (ASW) is a popular cluster validation index to estimate the number of clusters. ... These also\n",
    "concern the use of the ASW for estimating the number of clusters together with other methods, which is of general interest\n",
    "due to the popularity of the ASW for this task."
   ]
  },
  {
   "cell_type": "code",
   "execution_count": null,
   "id": "1f06a59f",
   "metadata": {},
   "outputs": [],
   "source": [
    "Bagging is a way to decrease the variance in the prediction by generating additional data for training from dataset using\n",
    "combinations with repetitions to produce multi-sets of the original data. Boosting is an iterative technique which adjusts \n",
    "the weight of an observation based on the last classification"
   ]
  },
  {
   "cell_type": "code",
   "execution_count": null,
   "id": "814266ee",
   "metadata": {},
   "outputs": [],
   "source": []
  }
 ],
 "metadata": {
  "kernelspec": {
   "display_name": "Python 3",
   "language": "python",
   "name": "python3"
  },
  "language_info": {
   "codemirror_mode": {
    "name": "ipython",
    "version": 3
   },
   "file_extension": ".py",
   "mimetype": "text/x-python",
   "name": "python",
   "nbconvert_exporter": "python",
   "pygments_lexer": "ipython3",
   "version": "3.8.8"
  }
 },
 "nbformat": 4,
 "nbformat_minor": 5
}
