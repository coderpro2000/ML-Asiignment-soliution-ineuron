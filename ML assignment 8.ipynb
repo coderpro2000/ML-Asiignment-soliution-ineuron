{
 "cells": [
  {
   "cell_type": "code",
   "execution_count": null,
   "id": "3578349a",
   "metadata": {},
   "outputs": [],
   "source": [
    "Ques1 What exactly is a feature? Give an example to illustrate your point.\n",
    "\n",
    "Ans 1 In machine learning and pattern recognition, a feature is an individual measurable property or characteristic of a \n",
    "phenomenon. Choosing informative, discriminating and independent features is a crucial element of effective algorithms in \n",
    "pattern recognition, classification and regression."
   ]
  },
  {
   "cell_type": "code",
   "execution_count": null,
   "id": "5d456813",
   "metadata": {},
   "outputs": [],
   "source": [
    "Ques2 What are the various circumstances in which feature construction is required?\n",
    "\n",
    "Feature engineering is the process of using domain knowledge to extract features (characteristics, properties, attributes) from raw data\n",
    "\n",
    "A feature is a property shared by independent units on which analysis or prediction is to be done.\n",
    "\n",
    "Features are used by predictive models and influence results."
   ]
  },
  {
   "cell_type": "code",
   "execution_count": null,
   "id": "78b5e3a2",
   "metadata": {},
   "outputs": [],
   "source": [
    "3. Describe how nominal variables are encoded.\n",
    "\n",
    "A column with nominal data has values that cannot be ordered in any meaningful way. Nominal data is most often one-hot\n",
    "(aka dummy) encoded, but there are many options that might perform better for machine learning. Rank. In contrast, ordinal \n",
    "data can be rank ordered"
   ]
  },
  {
   "cell_type": "code",
   "execution_count": null,
   "id": "e06c090b",
   "metadata": {},
   "outputs": [],
   "source": [
    "4 Describe how numeric features are converted to categorical features.\n",
    "\n",
    "\n",
    "astype() method is used to cast a pandas object to a specified dtype. astype() function also provides the capability to convert\n",
    "any suitable existing column to categorical type."
   ]
  },
  {
   "cell_type": "code",
   "execution_count": null,
   "id": "f2e3f59e",
   "metadata": {},
   "outputs": [],
   "source": [
    "5. Describe the feature selection wrapper approach. State the advantages and disadvantages of this\n",
    "approach?\n",
    "\n",
    "\n",
    "Wrapper Methods: Advantages\n",
    "\n",
    "They detect the interaction between variables. They find the optimal feature subset for the desired machine learning algorithm"
   ]
  },
  {
   "cell_type": "code",
   "execution_count": null,
   "id": "d50fcbec",
   "metadata": {},
   "outputs": [],
   "source": [
    "6. When is a feature considered irrelevant? What can be said to quantify it?\n",
    "Feature Selection is one of the core concepts in machine learning which hugely impacts the performance of your model. The data \n",
    "features that you use to train your machine learning models have a huge influence on the performance you can achieve."
   ]
  },
  {
   "cell_type": "code",
   "execution_count": null,
   "id": "7e6fded4",
   "metadata": {},
   "outputs": [],
   "source": [
    "7. When is a function considered redundant? What criteria are used to identify features that could\n",
    "be redundant?\n",
    "\n",
    "Data redundancy occurs when the same piece of data is stored in two or more separate places and is a common occurrence in many\n",
    "businesses. As more companies are moving  away from siloed data to using a central repository to store information, they are\n",
    "finding that their database is filled with inconsistent duplicates of the same entry. Although it can be challenging to \n",
    "reconcile — or even benefit from — duplicate data entries, understanding how to reduce and track data redundancy efficiently \n",
    "can help mitigate long-term inconsistency issues for your business. "
   ]
  },
  {
   "cell_type": "code",
   "execution_count": null,
   "id": "a0c86d26",
   "metadata": {},
   "outputs": [],
   "source": [
    "8. What are the various distance measurements used to determine feature similarity?\n",
    "\n",
    "\n",
    "Perhaps four of the most commonly used distance measures in machine learning are as follows: Hamming Distance. Euclidean \n",
    "    Distance. Manhattan Distance."
   ]
  },
  {
   "cell_type": "code",
   "execution_count": null,
   "id": "cb1104c8",
   "metadata": {},
   "outputs": [],
   "source": [
    "9. State difference between Euclidean and Manhattan distances?\n",
    "\n",
    "Manhattan distance is usually preferred over the more common Euclidean distance when there is high dimensionality in the data.\n",
    "Hamming distance is used to measure the distance between categorical variables, and the Cosine distance metric is mainly used\n",
    "to find the amount of similarity between two data points"
   ]
  },
  {
   "cell_type": "code",
   "execution_count": null,
   "id": "2cc2e425",
   "metadata": {},
   "outputs": [],
   "source": [
    "10 .Distinguish between feature transformation and feature selection.\n",
    "\n",
    "Feature selection is for filtering irrelevant or redundant features from your dataset. The key difference between feature \n",
    "selection and extraction is that feature selection keeps a subset of the original features while feature extraction creates \n",
    "brand new ones.\n"
   ]
  }
 ],
 "metadata": {
  "kernelspec": {
   "display_name": "Python 3",
   "language": "python",
   "name": "python3"
  },
  "language_info": {
   "codemirror_mode": {
    "name": "ipython",
    "version": 3
   },
   "file_extension": ".py",
   "mimetype": "text/x-python",
   "name": "python",
   "nbconvert_exporter": "python",
   "pygments_lexer": "ipython3",
   "version": "3.8.8"
  }
 },
 "nbformat": 4,
 "nbformat_minor": 5
}
