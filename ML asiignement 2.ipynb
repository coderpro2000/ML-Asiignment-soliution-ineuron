{
 "cells": [
  {
   "cell_type": "code",
   "execution_count": null,
   "metadata": {},
   "outputs": [],
   "source": [
    "1. What is the concept of human learning? Please give two examples.\n",
    "The process of learning is continuous which starts right from the time of birth of an individual and continues till the death. We all are engaged in the learning endeavours in order to develop our adaptive capabilities as per the requirements of the changing environment. For a learning to occur, two things are important: 1."
   ]
  },
  {
   "cell_type": "code",
   "execution_count": null,
   "metadata": {},
   "outputs": [],
   "source": [
    "2. What different forms of human learning are there? Are there any machine learning equivalents?\n",
    "Just like human learning, there are both model-based and model-free approaches in machine learning. Supervised learning would be considered a model-based learning approach, as it relies on a pre-labelled training dataset to determine its predictions."
   ]
  },
  {
   "cell_type": "code",
   "execution_count": null,
   "metadata": {},
   "outputs": [],
   "source": [
    "Machine learning is a data analytics technique that teaches computers to do what comes naturally to humans and animals: learn from experience. Machine learning algorithms use computational methods to “learn” information directly from data without relying on a predetermined equation as a model. The algorithms adaptively improve their performance as the number of samples available for learning increases. Deep learning is a specialized form of machine learning.\n",
    "    "
   ]
  },
  {
   "cell_type": "code",
   "execution_count": null,
   "metadata": {},
   "outputs": [],
   "source": [
    "Define the terms &quot;penalty&quot; and &quot;reward&quot; in the context of reinforcement learning.\n",
    "Reinforcement learning is the training of machine learning models to make a sequence of decisions for a given scenario. At its core, we have an autonomous agent such as a person, robot, or deep net learning to navigate an uncertain environment. The goal of this agent is to maximize the numerical reward."
   ]
  },
  {
   "cell_type": "code",
   "execution_count": null,
   "metadata": {},
   "outputs": [],
   "source": [
    "Explain the term &quot;learning as a search&quot;?\n",
    "This post will explain who we look to hire, and why, with an emphasis on the element most difficult to spot: good. We know that if we follow our formula of hiring well, and provide a winning .."
   ]
  },
  {
   "cell_type": "code",
   "execution_count": null,
   "metadata": {},
   "outputs": [],
   "source": [
    "The main distinction between the two approaches is the use of labeled datasets. To put it simply, supervised learning uses labeled input and output data, while an unsupervised learning algorithm does not.\n",
    "\n",
    "In supervised learning, the algorithm “learns” from the training dataset by iteratively making predictions on the data and adjusting for the correct answer. While supervised learning models tend to be more accurate than unsupervised learning models, they require upfront human intervention to label the data appropriately. For example, a supervised learning model can predict how long your commute will be based on the time of day, weather conditions and so on. But first, you’ll have to train it to know that rainy weather extends the driving time."
   ]
  },
  {
   "cell_type": "code",
   "execution_count": null,
   "metadata": {},
   "outputs": [],
   "source": [
    "Illustrate the various elements of machine learning using a real-life illustration.\n",
    "The Transformer – a model that uses attention to boost the speed with which these models can be trained. The Transformers outperforms the Google Neural Machine Translation model in specific tasks. The biggest benefit, however, comes from how The Transformer lends itself to parallelization. It is in fact Google Cloud’s recommendation to use The Transformer as a reference model to use their Cloud TPU offering. So let’s try to break the model apart and look at how it functions."
   ]
  },
  {
   "cell_type": "code",
   "execution_count": null,
   "metadata": {},
   "outputs": [],
   "source": [
    "Provide an example of the abstraction method.\n",
    "abstract method in an abstract class. //abstract class abstract class Sum{ /* These two are abstract methods, the child class * must implement these methods */ public abstract int sumOfTwo(int n1, int n2); public abstract int sumOfThree(int n1, int n2, int n3); //Regular method public void disp() { System.out.println(\"Method of class"
   ]
  },
  {
   "cell_type": "code",
   "execution_count": null,
   "metadata": {},
   "outputs": [],
   "source": [
    "Generalization in RL The goal in RL is usually described as that of learning a policy for a Markov Decision Process (MDP) that maximizes some objective function, such as the expected discounted sum of rewards. An MDP is characterized by a set of states S, a set of actions A, a transition function P and a reward function R."
   ]
  },
  {
   "cell_type": "code",
   "execution_count": null,
   "metadata": {},
   "outputs": [],
   "source": [
    "What is regression, and how does it work? Give an example of a real-world problem that wassolved using regression.\n",
    "\n",
    "Linear regression is one of the most commonly used techniques in statistics. It is used to quantify the relationship between one or more predictor variables and a response variable.\n",
    "\n",
    "The most basic form of linear is regression is known as simple linear regression, which is used to quantify the relationship between one predictor variable and one response variable.\n",
    "\n",
    "If we have more than one predictor variable then we can use multiple linear regression, which is used to quantify the relationship between several predictor variables and a response variable.\n",
    "\n",
    "This tutorial shares four different examples of when linear regression is used in real life.\n",
    "\n",
    "Linear Regression Real Life Example #1\n",
    "Businesses often use linear regression to understand the relationship between advertising spending and revenue.\n",
    "\n",
    "For example, they might fit a simple linear regression model using advertising spending as the predictor variable and revenue as the response variable. The regression model would take the following form:\n",
    "\n",
    "revenue = β0 + β1(ad spending)\n",
    "\n",
    "The coefficient β0 would represent total expected revenue when ad spending is zero.\n",
    "\n",
    "The coefficient β1 would represent the average change in  total revenue when ad spending is increased by one unit (e.g. one dollar)."
   ]
  },
  {
   "cell_type": "code",
   "execution_count": null,
   "metadata": {},
   "outputs": [],
   "source": [
    "Describe the clustering mechanism in detail.\n",
    "Clustering methods (like Hierarchical method, Partitioning, Density-based method, Model-based clustering, and Grid-based model) help in grouping the data points into clusters, using the different techniques are used to pick the appropriate result for the problem, these clustering techniques helps in grouping the data points into similar categories, and each of these subcategories is further divided into subcategories to assist the exploration of the queries output."
   ]
  },
  {
   "cell_type": "code",
   "execution_count": null,
   "metadata": {},
   "outputs": [],
   "source": []
  },
  {
   "cell_type": "code",
   "execution_count": null,
   "metadata": {},
   "outputs": [],
   "source": []
  },
  {
   "cell_type": "code",
   "execution_count": null,
   "metadata": {},
   "outputs": [],
   "source": []
  },
  {
   "cell_type": "code",
   "execution_count": null,
   "metadata": {},
   "outputs": [],
   "source": []
  }
 ],
 "metadata": {
  "kernelspec": {
   "display_name": "Python 3",
   "language": "python",
   "name": "python3"
  },
  "language_info": {
   "codemirror_mode": {
    "name": "ipython",
    "version": 3
   },
   "file_extension": ".py",
   "mimetype": "text/x-python",
   "name": "python",
   "nbconvert_exporter": "python",
   "pygments_lexer": "ipython3",
   "version": "3.7.6"
  }
 },
 "nbformat": 4,
 "nbformat_minor": 4
}
