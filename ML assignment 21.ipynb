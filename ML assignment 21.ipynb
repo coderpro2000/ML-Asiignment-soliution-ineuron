{
 "cells": [
  {
   "cell_type": "code",
   "execution_count": null,
   "id": "fb3ed1ac",
   "metadata": {},
   "outputs": [],
   "source": [
    "Thus, if the training set contains one million instances, the Decision Tree will have a depth of log2(10⁶) ≈ 20 (actually a bit more since the tree will generally not be perfectly well balanced)."
   ]
  },
  {
   "cell_type": "code",
   "execution_count": null,
   "id": "e51a4654",
   "metadata": {},
   "outputs": [],
   "source": [
    "Does the Gini Impurity of a node lower or greater than that of its parent. ... A node's Gini impurity is generally lower than that of its parent as the CART training algorithm cost function splits each of the nodes in a way that minimizes the weighted sum of its children's Gini impurities."
   ]
  },
  {
   "cell_type": "code",
   "execution_count": null,
   "id": "8dcbb795",
   "metadata": {},
   "outputs": [],
   "source": [
    "Decision Tree - Overfitting\n",
    "Pre-pruning that stop growing the tree earlier, before it perfectly classifies the training set.\n",
    "Post-pruning that allows the tree to perfectly classify the training set, and then post prune the tree."
   ]
  },
  {
   "cell_type": "code",
   "execution_count": null,
   "id": "b81a63eb",
   "metadata": {},
   "outputs": [],
   "source": [
    "Takeaway. Decision trees and ensemble methods do not require feature scaling to be performed as they are not sensitive to the the variance in the data."
   ]
  },
  {
   "cell_type": "code",
   "execution_count": null,
   "id": "a29f1a51",
   "metadata": {},
   "outputs": [],
   "source": [
    "For 10 million instances i.e., m = 106, then we get the value of K ≈ 11.7. Therefore, we can expect the training time to be roughly 11.7 hours."
   ]
  },
  {
   "cell_type": "code",
   "execution_count": null,
   "id": "03556144",
   "metadata": {},
   "outputs": [],
   "source": [
    "Presorting the training set speeds up training only if the dataset is smaller than a few thousand instances. If it contains 100,000 instances, setting presort=True will considerably slow down training."
   ]
  },
  {
   "cell_type": "code",
   "execution_count": null,
   "id": "f56b3cd7",
   "metadata": {},
   "outputs": [],
   "source": []
  },
  {
   "cell_type": "code",
   "execution_count": null,
   "id": "00b30734",
   "metadata": {},
   "outputs": [],
   "source": []
  }
 ],
 "metadata": {
  "kernelspec": {
   "display_name": "Python 3",
   "language": "python",
   "name": "python3"
  },
  "language_info": {
   "codemirror_mode": {
    "name": "ipython",
    "version": 3
   },
   "file_extension": ".py",
   "mimetype": "text/x-python",
   "name": "python",
   "nbconvert_exporter": "python",
   "pygments_lexer": "ipython3",
   "version": "3.8.8"
  }
 },
 "nbformat": 4,
 "nbformat_minor": 5
}
