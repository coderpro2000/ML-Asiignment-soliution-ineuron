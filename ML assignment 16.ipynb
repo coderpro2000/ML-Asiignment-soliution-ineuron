{
 "cells": [
  {
   "cell_type": "code",
   "execution_count": null,
   "id": "31b30593",
   "metadata": {},
   "outputs": [],
   "source": [
    "Algebraically, a linear equation typically takes the form y = mx + b, where m and b are constants, x is the independent variable, y is the dependent variable. ... The slope tells us how the dependent variable (y) changes for every one unit increase in the independent (x) variable, on average"
   ]
  },
  {
   "cell_type": "code",
   "execution_count": null,
   "id": "ca239001",
   "metadata": {},
   "outputs": [],
   "source": [
    "Example of multiple linear regression. Linear regression with a single predictor variable is known as simple regression. ... Returning to the Benetton example, we can include year variable in the regression, which gives the result that Sales = 323 + 14 Advertising + 47 Year."
   ]
  },
  {
   "cell_type": "code",
   "execution_count": null,
   "id": "08929b17",
   "metadata": {},
   "outputs": [],
   "source": [
    "A linear regression line has an equation of the form Y = a + bX, where X is the explanatory variable and Y is the dependent variable. The slope of the line is b, and a is the intercept (the value of y when x = 0)."
   ]
  },
  {
   "cell_type": "code",
   "execution_count": null,
   "id": "ffdd0186",
   "metadata": {},
   "outputs": [],
   "source": [
    "You can write two points from the line as (x1, y1) and (x2, y2). You find the slope by dividing the difference between the y-values by the difference between the x-values. That is, the formula (y2 - y1) / (x2 - x1) gives the slope."
   ]
  },
  {
   "cell_type": "code",
   "execution_count": null,
   "id": "7c2474f2",
   "metadata": {},
   "outputs": [],
   "source": [
    "n summary, if the slope is positive, y increases as x increases, and the function runs \"uphill\" (going left to right). If the slope is negative, y decreases as x increases and the function runs downhill. If the slope is zero, y does not change, thus is constant—a horizontal line."
   ]
  },
  {
   "cell_type": "code",
   "execution_count": null,
   "id": "d86ce1c7",
   "metadata": {},
   "outputs": [],
   "source": [
    "f the slope is negative, y decreases as x increases and the function runs downhill. If the slope is zero, y does not change, thus is constant—a horizontal line"
   ]
  },
  {
   "cell_type": "code",
   "execution_count": null,
   "id": "fc12a517",
   "metadata": {},
   "outputs": [],
   "source": [
    "Multiple linear regression refers to a statistical technique that uses two or more independent variables to predict the outcome of a dependent variable. The technique enables analysts to determine the variation of the model and the relative contribution of each independent variable in the total variance."
   ]
  },
  {
   "cell_type": "code",
   "execution_count": null,
   "id": "e3423644",
   "metadata": {},
   "outputs": [],
   "source": [
    "An error term represents the margin of error within a statistical model; it refers to the sum of the deviations within the regression line, which provides an explanation for the difference between the theoretical value of the model and the actual observed results."
   ]
  },
  {
   "cell_type": "code",
   "execution_count": null,
   "id": "ade5f846",
   "metadata": {},
   "outputs": [],
   "source": [
    "An error term represents the margin of error within a statistical model; it refers to the sum of the deviations within the regression line, which provides an explanation for the difference between the theoretical value of the model and the actual observed results."
   ]
  },
  {
   "cell_type": "code",
   "execution_count": null,
   "id": "6d852fb0",
   "metadata": {},
   "outputs": [],
   "source": [
    "What does heteroscedasticity mean?\n",
    "As it relates to statistics, heteroskedasticity (also spelled heteroscedasticity) refers to the error variance, or dependence of scattering, within a minimum of one independent variable within a particular sample. ... This provides guidelines regarding the probability of a random variable differing from the mean."
   ]
  },
  {
   "cell_type": "code",
   "execution_count": null,
   "id": "451154a4",
   "metadata": {},
   "outputs": [],
   "source": [
    "Ridge regression is a model tuning method that is used to analyse any data that suffers from multicollinearity. This method performs L2 regularization. When the issue of multicollinearity occurs, least-squares are unbiased, and variances are large, this results in predicted values to be far away from the actual values"
   ]
  },
  {
   "cell_type": "code",
   "execution_count": null,
   "id": "27dbf3a5",
   "metadata": {},
   "outputs": [],
   "source": [
    "Lasso regression is a regularization technique. It is used over regression methods for a more accurate prediction. This model uses shrinkage. Shrinkage is where data values are shrunk towards a central point as the mean. The lasso procedure encourages simple, sparse models (i.e. models with fewer parameters)."
   ]
  },
  {
   "cell_type": "code",
   "execution_count": null,
   "id": "be34b228",
   "metadata": {},
   "outputs": [],
   "source": [
    "How does a polynomial regression work?\n",
    "Image result for 14. What is polynomial regression and how does it work?\n",
    "In statistics, polynomial regression is a form of regression analysis in which the relationship between the independent variable x and the dependent variable y is modelled as an nth degree polynomial in x. ... For this reason, polynomial regression is considered to be a special case of multiple linear regressio"
   ]
  },
  {
   "cell_type": "code",
   "execution_count": null,
   "id": "faa4e08c",
   "metadata": {},
   "outputs": [],
   "source": [
    "In mathematics, a basis function is an element of a particular basis for a function space. Every function in the function space can be represented as a linear combination of basis functions, just as every vector in a vector space can be represented as a linear combination of basis vectors."
   ]
  }
 ],
 "metadata": {
  "kernelspec": {
   "display_name": "Python 3",
   "language": "python",
   "name": "python3"
  },
  "language_info": {
   "codemirror_mode": {
    "name": "ipython",
    "version": 3
   },
   "file_extension": ".py",
   "mimetype": "text/x-python",
   "name": "python",
   "nbconvert_exporter": "python",
   "pygments_lexer": "ipython3",
   "version": "3.8.8"
  }
 },
 "nbformat": 4,
 "nbformat_minor": 5
}
