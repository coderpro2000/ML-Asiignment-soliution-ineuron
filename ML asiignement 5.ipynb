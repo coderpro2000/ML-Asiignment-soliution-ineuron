{
 "cells": [
  {
   "cell_type": "code",
   "execution_count": null,
   "metadata": {},
   "outputs": [],
   "source": [
    "1. What are the key tasks that machine learning entails? What does data pre-processing imply?\n",
    "\n",
    "Rule #1: Don't be afraid to launch a product without machine learning. Machine learning is cool, but it requires data. Theoretically, you can take data from a different problem and then tweak the model for a new product, but this will likely underperform basic heuristics."
   ]
  },
  {
   "cell_type": "code",
   "execution_count": null,
   "metadata": {},
   "outputs": [],
   "source": [
    "Describe quantitative and qualitative data in depth. Make a distinction between the two.\n",
    "Quantitative data is fixed and \"universal,\" while qualitative data is subjective and dynamic. For example, if something weighs 20 kilograms, that can be considered an objective fact. However, two people may have very different qualitative accounts of how they experience a particular event."
   ]
  },
  {
   "cell_type": "code",
   "execution_count": null,
   "metadata": {},
   "outputs": [],
   "source": [
    "ccess manuscripts, documents or records from libraries, depositories or the internet. Secondary data collection: To analyze data from populations that you can't access first-hand. Find existing datasets that have already been collected, from sources such as government agencies or research organizations."
   ]
  },
  {
   "cell_type": "code",
   "execution_count": null,
   "metadata": {},
   "outputs": [],
   "source": [
    "What are the various causes of machine learning data issues? What are the ramifications?\n",
    "\n",
    "Machine l earning (ML) has become ubiquitous in scientific research, and in many places has replaced the use of traditional statistical techniques. Whilst ML techniques are often simpler to perform analysis with, the inherent black-box approach causes severe problems in the pursuit of truth."
   ]
  },
  {
   "cell_type": "code",
   "execution_count": null,
   "metadata": {},
   "outputs": [],
   "source": [
    "Demonstrate various approaches to categorical data exploration with appropriate examples.\n",
    "\n",
    " Visualizations for Categorical Data: Exploring the OkCupid Data. To illustrate different visualization techniques for qualitative data, the OkCupid data are used. These data were first introduced in Section 3.1.Recall that the training set consisted of 38,809 profiles and the goal was to predict whether the profile's author was worked in a STEM field."
   ]
  },
  {
   "cell_type": "code",
   "execution_count": null,
   "metadata": {},
   "outputs": [],
   "source": [
    "6. How would the learning activity be affected if certain variables have missing values? Having said\n",
    "that, what can be done about it?\n",
    "\n",
    "Missing completely at random (MCAR) is defined as when the probability that the data are missing is not related to either the specific value which is supposed to be obtained or the set of observed responses. MCAR is an ideal but unreasonable assumption for many studies performed in the field of anesthesiology. However, if data are missing by design, because of an equipment failure or because the samples are lost in transit or technically unsatisfactory, such data are regarded as being MCAR.\n",
    "\n",
    "The statistical advantage of data that are MCAR is that the analysis remains unbiased. Power may be lost in the design, but the estimated parameters are not biased by the absence of the dat"
   ]
  },
  {
   "cell_type": "code",
   "execution_count": null,
   "metadata": {},
   "outputs": [],
   "source": [
    "Describe the various methods for dealing with missing data values in depth.\n",
    "\n",
    "An analysis is only as good as its data, and every researcher has struggled with dubious results because of missing data.In this article, I will cover three ways to deal with missing data. Types of Missing Data. Understanding the nature of missing data is critical in determining what treatments can be applied to overcome the lack of data."
   ]
  },
  {
   "cell_type": "code",
   "execution_count": null,
   "metadata": {},
   "outputs": [],
   "source": [
    "8. What are the various data pre-processing techniques? Explain dimensionality reduction and\n",
    "function selection in a few words.\n",
    "\n",
    "ntroduction to Principal Component Analysis. Principal Component Analysis (PCA) is an unsupervised linear transformation technique that is widely used across different fields, most prominently for feature extraction and dimensionality reduction.Other popular applications of PCA include exploratory data analyses and de-noising of signals in stock market trading, and the analysis of genome data ..."
   ]
  },
  {
   "cell_type": "code",
   "execution_count": null,
   "metadata": {},
   "outputs": [],
   "source": [
    "The median is the middle value of the distribution of the given data. The interquartile range (IQR) is the range of values that resides in the middle of the scores. When a distribution is skewed, and the median is used instead of the mean to show a central tendency, the appropriate measure of variability is the Interquartile range."
   ]
  },
  {
   "cell_type": "code",
   "execution_count": null,
   "metadata": {},
   "outputs": [],
   "source": [
    "A box and whisker plot is a visual tool that is used to graphically display the median, lower and upper quartiles, and lower and upper extremes of a set of data.. Box and whisker plots help you to see the variance of data and can be a very helpful tool. This guide to creating and understanding box and whisker plots will provide a step-by-step tutorial along with a free box and whisker plot ..."
   ]
  },
  {
   "cell_type": "code",
   "execution_count": null,
   "metadata": {},
   "outputs": [],
   "source": []
  },
  {
   "cell_type": "code",
   "execution_count": null,
   "metadata": {},
   "outputs": [],
   "source": []
  },
  {
   "cell_type": "code",
   "execution_count": null,
   "metadata": {},
   "outputs": [],
   "source": []
  },
  {
   "cell_type": "code",
   "execution_count": null,
   "metadata": {},
   "outputs": [],
   "source": []
  },
  {
   "cell_type": "code",
   "execution_count": null,
   "metadata": {},
   "outputs": [],
   "source": []
  }
 ],
 "metadata": {
  "kernelspec": {
   "display_name": "Python 3",
   "language": "python",
   "name": "python3"
  },
  "language_info": {
   "codemirror_mode": {
    "name": "ipython",
    "version": 3
   },
   "file_extension": ".py",
   "mimetype": "text/x-python",
   "name": "python",
   "nbconvert_exporter": "python",
   "pygments_lexer": "ipython3",
   "version": "3.7.6"
  }
 },
 "nbformat": 4,
 "nbformat_minor": 4
}
