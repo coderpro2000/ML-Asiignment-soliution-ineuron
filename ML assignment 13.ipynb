{
 "cells": [
  {
   "cell_type": "code",
   "execution_count": null,
   "id": "cf7cb389",
   "metadata": {},
   "outputs": [],
   "source": [
    "ou can think of posterior probability as an adjustment on prior probability: Posterior probability = prior probability + new evidence (called likelihood). For example, historical data suggests that around 60% of students who start college will graduate within 6 years. This is the prior probability."
   ]
  },
  {
   "cell_type": "code",
   "execution_count": null,
   "id": "2bccf196",
   "metadata": {},
   "outputs": [],
   "source": [
    "Bayes' theorem thus gives the probability of an event based on new information that is, or may be related, to that event. The formula can also be used to see how the probability of an event occurring is affected by hypothetical new information, supposing the new information will turn out to be true."
   ]
  },
  {
   "cell_type": "code",
   "execution_count": null,
   "id": "8328de06",
   "metadata": {},
   "outputs": [],
   "source": [
    "Applications of Naive Bayes Algorithm\n",
    "As this algorithm is fast and efficient, you can use it to make real-time predictions. This algorithm is popular for multi-class predictions. ... Email services (like Gmail) use this algorithm to figure out whether an email is a spam or not."
   ]
  },
  {
   "cell_type": "code",
   "execution_count": null,
   "id": "0eb4f74f",
   "metadata": {},
   "outputs": [],
   "source": [
    "There are three main methods for handling continuous variables in naive Bayes classifiers, namely, the normal method (parametric approach), the kernel method (non parametric approach) and discretization."
   ]
  },
  {
   "cell_type": "code",
   "execution_count": null,
   "id": "3232f31b",
   "metadata": {},
   "outputs": [],
   "source": [
    "It can also be used in various tasks including prediction, anomaly detection, diagnostics, automated insight, reasoning, time series prediction, and decision making under uncertainty. Bayesian Network can be used for building models from data and experts opinions, and it consists of two parts: Directed Acyclic Graph."
   ]
  },
  {
   "cell_type": "code",
   "execution_count": null,
   "id": "312a16d9",
   "metadata": {},
   "outputs": [],
   "source": [
    "This can be solved directly with the Bayesian theorem.\n",
    "P(T = 1|A = 1) = P(A = 1|T = 1)P(T = 1)\n",
    "P(A = 1) (1)\n",
    "=\n",
    "P(A = 1|T = 1)P(T = 1)\n",
    "P(A = 1|T = 1)P(T = 1) + P(A = 1|T = 0)P(T = 0) (2)\n",
    "=\n",
    "0.98 × 0.00001\n",
    "0.98 × 0.00001 + 0.001 × (1 − 0.00001) = 0.0097 (3)\n",
    "≈\n",
    "0.00001\n",
    "0.001\n",
    "= 0.01 (4)\n",
    "It is interesting that even though for any passenger it can be decided with high reliability (98% and 99.9%)\n",
    "whether (s)he is a terrorist or not, if somebody gets arrested as a terrorist, (s)he is still most likely not a\n",
    "terrorist (with a probability of 99%).\n"
   ]
  },
  {
   "cell_type": "code",
   "execution_count": null,
   "id": "a8c6890d",
   "metadata": {},
   "outputs": [],
   "source": [
    "This equates to more than 5 prescriptions written each year for every 6 people in the United States. At least 28% of antibiotics prescribed in the outpatient setting are unnecessary, meaning that no antibiotic was needed at all.\n"
   ]
  },
  {
   "cell_type": "code",
   "execution_count": null,
   "id": "719fd55c",
   "metadata": {},
   "outputs": [],
   "source": [
    "(a) What is the probability that you will solve the problem of the exam?\n",
    "Solution: The probability to solve the problem of the exam is the probability of getting a problem of\n",
    "a certain type times the probability of solving such a problem, summed over all types. This is known\n",
    "as the total probability.\n",
    "P(solved) = P(solved|A)P(A) + P(solved|B)P(B) + P(solved|C)P(C) (1)\n",
    "= 9/10 · 30% + 2/10 · 20% + 6/10 · 50% (2)\n",
    "= 27/100 + 4/100 + 30/100 = 61/100 = 0.61 . (3)\n",
    "(b) Given you have solved the problem, what is the probability that it was of type A?\n",
    "Solution: For this to answer we need Bayes theorem.\n",
    "P(A|solved) = P(solved|A)P(A)\n",
    "P(solved) (4)\n",
    "=\n",
    "9/10 · 30%\n",
    "61/100\n",
    "=\n",
    "27/100\n",
    "61/100\n",
    "=\n",
    "27\n",
    "61\n",
    "= 0.442... . (5)\n",
    "(6)\n",
    "So we see that given you have solved the problem, the a posteriori probability that the problem was of\n",
    "type A is greater than its a priori probability of 30%, because problems of type A are relatively easy\n",
    "to solve.\n"
   ]
  },
  {
   "cell_type": "code",
   "execution_count": null,
   "id": "bc370be4",
   "metadata": {},
   "outputs": [],
   "source": []
  },
  {
   "cell_type": "code",
   "execution_count": null,
   "id": "fad01e55",
   "metadata": {},
   "outputs": [],
   "source": []
  },
  {
   "cell_type": "code",
   "execution_count": null,
   "id": "270eacf0",
   "metadata": {},
   "outputs": [],
   "source": []
  },
  {
   "cell_type": "code",
   "execution_count": null,
   "id": "08357c22",
   "metadata": {},
   "outputs": [],
   "source": []
  }
 ],
 "metadata": {
  "kernelspec": {
   "display_name": "Python 3",
   "language": "python",
   "name": "python3"
  },
  "language_info": {
   "codemirror_mode": {
    "name": "ipython",
    "version": 3
   },
   "file_extension": ".py",
   "mimetype": "text/x-python",
   "name": "python",
   "nbconvert_exporter": "python",
   "pygments_lexer": "ipython3",
   "version": "3.8.8"
  }
 },
 "nbformat": 4,
 "nbformat_minor": 5
}
