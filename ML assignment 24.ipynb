{
 "cells": [
  {
   "cell_type": "code",
   "execution_count": null,
   "id": "8be0e02a",
   "metadata": {},
   "outputs": [],
   "source": [
    "Cluster analysis, or clustering, is an unsupervised machine learning task. It involves automatically discovering natural grouping in data. Unlike supervised learning (like predictive modeling), clustering algorithms only interpret the input data and find natural groups or clusters in feature space"
   ]
  },
  {
   "cell_type": "code",
   "execution_count": null,
   "id": "80a77b74",
   "metadata": {},
   "outputs": [],
   "source": [
    "Best Clustering algorithms\n",
    "K-means clustering is the most commonly used clustering algorithm. It's a centroid-based algorithm and the simplest unsupervised learning algorithm. This algorithm tries to minimize the variance of data points within a cluster. It's also how most people are introduced to unsupervised machine learning."
   ]
  },
  {
   "cell_type": "code",
   "execution_count": null,
   "id": "4c44e28e",
   "metadata": {},
   "outputs": [],
   "source": [
    "The optimal number of clusters can be defined as follow:\n",
    "Compute clustering algorithm (e.g., k-means clustering) for different values of k. ...\n",
    "For each k, calculate the total within-cluster sum of square (wss).\n",
    "Plot the curve of wss according to the number of clusters k."
   ]
  },
  {
   "cell_type": "code",
   "execution_count": null,
   "id": "07c76f76",
   "metadata": {},
   "outputs": [],
   "source": [
    "The major methods of asexual propagation are cuttings, layering, division, budding and grafting. Cuttings involve rooting a severed piece of the parent plant; layering involves rooting a part of the parent and then severing it; and budding and grafting is joining two plant parts from different varieties."
   ]
  },
  {
   "cell_type": "code",
   "execution_count": null,
   "id": "29932e6d",
   "metadata": {},
   "outputs": [],
   "source": [
    "Graph based method is one of the best used traditional clustering techniques. The advantage of graph based method to that of other methods is that the users need not know the number of clusters in advance. It is simple and the clusters are created by assigning the threshold"
   ]
  },
  {
   "cell_type": "code",
   "execution_count": null,
   "id": "de9c7107",
   "metadata": {},
   "outputs": [],
   "source": [
    "In the constructivist classroom, the focus tends to shift from the teacher to ... Students need to know how to learn or change their thinking/learning style."
   ]
  },
  {
   "cell_type": "code",
   "execution_count": null,
   "id": "7b596463",
   "metadata": {},
   "outputs": [],
   "source": [
    "The training data contains outliers which are defined as observations that are far from the others. ... In this context an outlier is also called a novelty. Outlier detection and novelty detection are both used for anomaly detection, where one is interested in detecting abnormal or unusual observations."
   ]
  },
  {
   "cell_type": "code",
   "execution_count": null,
   "id": "b51c6495",
   "metadata": {},
   "outputs": [],
   "source": [
    "Gaussian mixture models are a probabilistic model for representing normally distributed subpopulations within an overall population. Mixture models in general don't require knowing which subpopulation a data point belongs to, allowing the model to learn the subpopulations automatically."
   ]
  },
  {
   "cell_type": "code",
   "execution_count": null,
   "id": "bf26444c",
   "metadata": {},
   "outputs": [],
   "source": [
    "Broadly, the Expectation-Maximization algorithm has two steps:\n",
    "E-step: In this step, the available data is used to estimate (guess) the values of the missing variables.\n",
    "M-step: Based on the estimated values generated in the E-step, the complete data is used to update the parameters."
   ]
  }
 ],
 "metadata": {
  "kernelspec": {
   "display_name": "Python 3",
   "language": "python",
   "name": "python3"
  },
  "language_info": {
   "codemirror_mode": {
    "name": "ipython",
    "version": 3
   },
   "file_extension": ".py",
   "mimetype": "text/x-python",
   "name": "python",
   "nbconvert_exporter": "python",
   "pygments_lexer": "ipython3",
   "version": "3.8.8"
  }
 },
 "nbformat": 4,
 "nbformat_minor": 5
}
