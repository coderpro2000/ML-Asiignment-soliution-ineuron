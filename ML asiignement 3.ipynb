{
 "cells": [
  {
   "cell_type": "code",
   "execution_count": null,
   "metadata": {},
   "outputs": [],
   "source": [
    "1.Explain the term machine learning, and how does it work? Explain two machine learningapplications in the business world. What are some of the ethical concerns that machine learning\n",
    "applications could raise?\n",
    "Machine learning (ML) is the study of computer algorithms that improve automatically through experience and by the use of data.[1] It is seen as a part of artificial intelligence. Machine learning algorithms build a model based on sample data, known as \"training data\", in order to make predictions or decisions without being explicitly programmed to do so.[2] Machine learning algorithms are used in a wide variety of applications, such as in medicine, email filtering, and computer vision, where it is difficult or unfeasible to develop conventional algorithms to perform the needed tasks.[3]\n",
    "\n",
    "A subset of machine learning is closely related to computational statistics, which focuses on making predictions using computers; but not all machine learning is statistical learning. The study of mathematical optimization delivers methods, theory and application domains to the field of machine learning. Data mining is a related field of study, focusing on exploratory data analysis through unsupervised learning.[5][6] In its application across business problems, machine learning is also referred to as predictive analytics."
   ]
  },
  {
   "cell_type": "code",
   "execution_count": null,
   "metadata": {},
   "outputs": [],
   "source": [
    "Provide a few examples of various types of machine learning.\n",
    "14 Different Types of Learning in Machine Learning\n",
    "by Jason Brownlee on November 11, 2019 in Start Machine Learning\n",
    "Tweet  Share\n",
    "Last Updated on November 11, 2019\n",
    "\n",
    "Machine learning is a large field of study that overlaps with and inherits ideas from many related fields such as artificial intelligence.\n",
    "\n",
    "The focus of the field is learning, that is, acquiring skills or knowledge from experience. Most commonly, this means synthesizing useful concepts from historical data.\n",
    "\n",
    "As such, there are many different types of learning that you may encounter as a practitioner in the field of machine learning: from whole fields of study to specific techniques.\n",
    "\n",
    "In this post, you will discover a gentle introduction to the different types of learning that you may encounter in the field of machine learning.\n",
    "\n",
    "After reading this post, you will know:\n",
    "\n",
    "Fields of study, such as supervised, unsupervised, and reinforcement learning.\n",
    "Hybrid types of learning, such as semi-supervised and self-supervised learning.\n",
    "Broad techniques, such as active, online, and transfer learning.\n",
    "Let’s get started.\n",
    "\n",
    "Types of Learning in Machine Learning\n",
    "Types of Learning in Machine Learning\n",
    "Photo by Lenny K Photography, some rights reserved.\n",
    "\n",
    "Types of Learning\n",
    "Given that the focus of the field of machine learning is “learning,” there are many types that you may encounter as a practitioner.\n",
    "\n",
    "Some types of learning describe whole subfields of study comprised of many different types of algorithms such as “supervised learning.” Others describe powerful techniques that you can use on your projects, such as “transfer learning.”\n",
    "\n",
    "There are perhaps 14 types of learning that you must be familiar with as a machine learning practitioner; they are:\n",
    "\n",
    "Learning Problems\n",
    "\n",
    "1. Supervised Learning\n",
    "2. Unsupervised Learning\n",
    "3. Reinforcement Learning\n",
    "Hybrid Learning Problems\n",
    "\n",
    "4. Semi-Supervised Learning\n",
    "5. Self-Supervised Learning\n",
    "6. Multi-Instance Learning"
   ]
  },
  {
   "cell_type": "code",
   "execution_count": null,
   "metadata": {},
   "outputs": [],
   "source": [
    "Therefore, machine learning used along with Artificial intelligence and other technologies is more effective to process information. Recommended Articles. This has been a guide to Types of Machine Learning. Here we discussed the Concept of types of Machine Learning along with the different methods and different kinds of models for algorithms."
   ]
  },
  {
   "cell_type": "code",
   "execution_count": null,
   "metadata": {},
   "outputs": [],
   "source": [
    "Can you explain what a well-posed learning problem is? Explain the main characteristics that must\n",
    "be present to identify a learning problem properly.\n",
    "\n",
    "The main advantage of asynchronous online learning is that it allows students to participate in high quality learning situations when distance and schedule make on-ground learning difficult-to-impossible. Students can participate in classes from anywhere in the world, provided they have a computer and Internet connection."
   ]
  },
  {
   "cell_type": "code",
   "execution_count": null,
   "metadata": {},
   "outputs": [],
   "source": [
    "Is machine learning capable of solving all problems? Give a detailed explanation of your answer.\n",
    "Supervised learning helps organizations solve for a variety of real-world problems at scale, such as classifying spam in a separate folder from your inbox. Some methods used in supervised learning include neural networks, naïve bayes, linear regression, logistic regression, random forest, support vector machine (SVM), and more."
   ]
  },
  {
   "cell_type": "code",
   "execution_count": null,
   "metadata": {},
   "outputs": [],
   "source": [
    "What are the various methods and technologies for solving machine learning problems? Any two\n",
    "of them should be defined in detail.\n",
    "A technology that enables a machine to stimulate human behavior to help in solving complex problems is known as Artificial Intelligence. Machine Learning is a subset of AI and allows machines to learn from past data and provide an accurate output. AI deals with unstructured as well as structured data."
   ]
  },
  {
   "cell_type": "code",
   "execution_count": null,
   "metadata": {},
   "outputs": [],
   "source": [
    "Can you explain the various forms of supervised learning? Explain each one with an example\n",
    "application.\n",
    "Supervised Learning algorithms can help make predictions for new unseen data that we obtain later in the future. This is similar to a teacher-student scenario. There is a teacher who guides the student to learn from books and other materials. The student is then tested and if correct, the student passes."
   ]
  },
  {
   "cell_type": "code",
   "execution_count": null,
   "metadata": {},
   "outputs": [],
   "source": [
    "Difference between Supervised and Unsupervised Learning (Machine Learning) is explained here in detail. Supervised learning is the machine learning task of learning a function that maps an input to an output based on example input-output pairs.A wide range of supervised learning algorithms are available, each with its strengths and weaknesses"
   ]
  },
  {
   "cell_type": "code",
   "execution_count": null,
   "metadata": {},
   "outputs": [],
   "source": []
  },
  {
   "cell_type": "code",
   "execution_count": null,
   "metadata": {},
   "outputs": [],
   "source": []
  }
 ],
 "metadata": {
  "kernelspec": {
   "display_name": "Python 3",
   "language": "python",
   "name": "python3"
  },
  "language_info": {
   "codemirror_mode": {
    "name": "ipython",
    "version": 3
   },
   "file_extension": ".py",
   "mimetype": "text/x-python",
   "name": "python",
   "nbconvert_exporter": "python",
   "pygments_lexer": "ipython3",
   "version": "3.7.6"
  }
 },
 "nbformat": 4,
 "nbformat_minor": 4
}
