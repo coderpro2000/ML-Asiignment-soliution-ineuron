{
 "cells": [
  {
   "cell_type": "code",
   "execution_count": null,
   "id": "936d4d72",
   "metadata": {},
   "outputs": [],
   "source": [
    "Semi-supervised learning aims to label unlabeled data points using knowledge learned from a small number of labeled data points. Unsupervised learning does not have (or need) any labeled outputs, so its goal is to infer the natural structure present within a set of data points."
   ]
  },
  {
   "cell_type": "code",
   "execution_count": null,
   "id": "61175285",
   "metadata": {},
   "outputs": [],
   "source": [
    "What are some examples of classification problems?\n",
    "Image result for Describe in detail any five examples of classification problems.\n",
    "Examples of classification problems include:\n",
    "Given an example, classify if it is spam or not.\n",
    "Given a handwritten character, classify it as one of the known characters.\n",
    "Given recent user behavior, classify as churn or not."
   ]
  },
  {
   "cell_type": "code",
   "execution_count": null,
   "id": "136cc6e7",
   "metadata": {},
   "outputs": [],
   "source": [
    "What are the different stages of classification?\n",
    "Step 1: Split the data.\n",
    "Step 2: Choose dependent variable.\n",
    "Step 3: Simple Analysis.\n",
    "Step 4: Classification and Interpretation.\n",
    "Step 5: Validation accuracy."
   ]
  },
  {
   "cell_type": "code",
   "execution_count": null,
   "id": "92fb01e0",
   "metadata": {},
   "outputs": [],
   "source": [
    "“Support Vector Machine” (SVM) is a supervised machine learning algorithm that can be used for both classification or regression challenges. ... Support Vectors are simply the coordinates of individual observation. The SVM classifier is a frontier that best segregates the two classes (hyper-plane/ line)."
   ]
  },
  {
   "cell_type": "code",
   "execution_count": null,
   "id": "76be3d9f",
   "metadata": {},
   "outputs": [],
   "source": [
    "SVM Advantages & Disadvantages\n",
    "SVM's are very good when we have no idea on the data.\n",
    "Works well with even unstructured and semi structured data like text, Images and trees.\n",
    "The kernel trick is real strength of SVM. ...\n",
    "Unlike in neural networks, SVM is not solved for local optima"
   ]
  },
  {
   "cell_type": "code",
   "execution_count": null,
   "id": "43374c65",
   "metadata": {},
   "outputs": [],
   "source": [
    "KNN can be used for both classification and regression predictive problems. However, it is more widely used in classification problems in the industry. To evaluate any technique we generally look at 3 important aspects:\n",
    "\n",
    "1. Ease to interpret output\n",
    "\n",
    "2. Calculation time\n",
    "\n",
    "3. Predictive Power\n",
    "\n",
    "Let us take a few examples to  place KNN in the scale :\n",
    "\n",
    "Model comparisonKNN algorithm fairs across all parameters of considerations. It is commonly used for its easy of interpretation and low calculation time."
   ]
  },
  {
   "cell_type": "code",
   "execution_count": null,
   "id": "f7aa73c6",
   "metadata": {},
   "outputs": [],
   "source": [
    "This is an in-depth tutorial designed to introduce you to a simple, yet powerful classification algorithm called K-Nearest-Neighbors (KNN). We will go over the intuition and mathematical detail of the algorithm, apply it to a real-world dataset to see exactly how it works, and gain an intrinsic understanding of its inner-workings by writing it from scratch in code. Finally, we will explore ways in which we can improve the algorithm."
   ]
  },
  {
   "cell_type": "code",
   "execution_count": null,
   "id": "ec48abc2",
   "metadata": {},
   "outputs": [],
   "source": [
    "How do you measure accuracy in KNN?\n",
    "1c. KNN (K=1)\n",
    "KNN model. Pick a value for K. ...\n",
    "This would always have 100% accuracy, because we are testing on the exact same data, it would always make correct predictions.\n",
    "KNN would search for one nearest observation a"
   ]
  },
  {
   "cell_type": "code",
   "execution_count": null,
   "id": "cbac0bb6",
   "metadata": {},
   "outputs": [],
   "source": [
    "Let's build KNN classifier model. First, import the KNeighborsClassifier module and create KNN classifier object by passing argument number of neighbors in KNeighborsClassifier() function. Then, fit your model on the train set using fit() and perform prediction on the test set using predict()."
   ]
  },
  {
   "cell_type": "code",
   "execution_count": null,
   "id": "147841a7",
   "metadata": {},
   "outputs": [],
   "source": [
    "Which techniques are used in the decision tree?\n",
    "Table 1.\n",
    "Methods\tCART\tQUEST\n",
    "Pruning\tPre-pruning using a single-pass algorithm\tPost-pruning\n",
    "Dependent variable\tCategorical/ Continuous\tCategorical\n",
    "Input variables\tCategorical/ Continuous\tCategorical/ Continuous\n",
    "Split at each node\tBinary; Split on linear combinations\tBinary; Split on linear combinations"
   ]
  },
  {
   "cell_type": "code",
   "execution_count": null,
   "id": "7d47a32e",
   "metadata": {},
   "outputs": [],
   "source": [
    "Decision Tree algorithm belongs to the family of supervised learning algorithms. ... The goal of using a Decision Tree is to create a training model that can use to predict the class or value of the target variable by learning simple decision rules inferred from prior data(training data)."
   ]
  },
  {
   "cell_type": "code",
   "execution_count": null,
   "id": "192e51dc",
   "metadata": {},
   "outputs": [],
   "source": [
    "How can decision trees prevent overfitting?\n",
    "There are several approaches to avoiding overfitting in building decision trees.\n",
    "Pre-pruning that stop growing the tree earlier, before it perfectly classifies the training set.\n",
    "Post-pruning that allows the tree to perfectly classify the training set, and then post prune the tree.\n"
   ]
  },
  {
   "cell_type": "code",
   "execution_count": null,
   "id": "27d57a89",
   "metadata": {},
   "outputs": [],
   "source": [
    "What are advantages and disadvantages of Decision Tree?\n",
    "Advantages and Disadvantages of Decision Trees in Machine Learning. Decision Tree is used to solve both classification and regression problems. But the main drawback of Decision Tree is that it generally leads to overfitting of the data.2"
   ]
  },
  {
   "cell_type": "code",
   "execution_count": null,
   "id": "db1e4e68",
   "metadata": {},
   "outputs": [],
   "source": [
    "Appropriate Problems for Decision Tree Learning\n",
    "Instances are represented by attribute-value pairs. ...\n",
    "The target function has discrete output values. ...\n",
    "Disjunctive descriptions may be required. ...\n",
    "The training data may contain errors. ...\n",
    "The training data may contain missing attribute values."
   ]
  },
  {
   "cell_type": "code",
   "execution_count": null,
   "id": "8fa5aca0",
   "metadata": {},
   "outputs": [],
   "source": []
  },
  {
   "cell_type": "code",
   "execution_count": null,
   "id": "4677dc8b",
   "metadata": {},
   "outputs": [],
   "source": []
  },
  {
   "cell_type": "code",
   "execution_count": null,
   "id": "741a67d4",
   "metadata": {},
   "outputs": [],
   "source": []
  },
  {
   "cell_type": "code",
   "execution_count": null,
   "id": "11b29d4a",
   "metadata": {},
   "outputs": [],
   "source": []
  }
 ],
 "metadata": {
  "kernelspec": {
   "display_name": "Python 3",
   "language": "python",
   "name": "python3"
  },
  "language_info": {
   "codemirror_mode": {
    "name": "ipython",
    "version": 3
   },
   "file_extension": ".py",
   "mimetype": "text/x-python",
   "name": "python",
   "nbconvert_exporter": "python",
   "pygments_lexer": "ipython3",
   "version": "3.8.8"
  }
 },
 "nbformat": 4,
 "nbformat_minor": 5
}
