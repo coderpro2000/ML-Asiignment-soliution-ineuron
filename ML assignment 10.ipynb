{
 "cells": [
  {
   "cell_type": "code",
   "execution_count": null,
   "id": "da09d628",
   "metadata": {},
   "outputs": [],
   "source": [
    "Bayesian probability is an interpretation of the concept of probability, in which, instead of frequency or propensity of some \n",
    "phenomenon, probability is interpreted as reasonable expectation representing a state of knowledge or as quantification of a \n",
    "personal belief.\n",
    "\n",
    "The Bayesian interpretation of probability can be seen as an extension of propositional logic that enables reasoning with \n",
    "hypotheses; that is, with propositions whose truth or falsity is unknown. In the Bayesian view, a probability is assigned to\n",
    "a hypothesis, whereas under frequentist inference, a hypothesis is typically tested without being assigned a probability.\n",
    "\n",
    "Bayesian probability belongs to the category of evidential probabilities; to evaluate the probability of a hypothesis, the \n",
    "Bayesian probabilist specifies a prior probability. This, in turn, is then updated to a posterior probability in the light\n",
    "of new, relevant data (evidence). The Bayesian interpretation provides a standard set of procedures and formulae to perform\n",
    "this calculation.\n",
    "\n",
    "The term Bayesian derives from the 18th-century mathematician and theologian Thomas Bayes, who provided the first mathematical\n",
    "treatment of a non-trivial problem of statistical data analysis using what is now known as Bayesian inference.  Mathematician \n",
    "Pierre-Simon Laplace pioneered and popularized what is now called Bayesian probability"
   ]
  },
  {
   "cell_type": "code",
   "execution_count": null,
   "id": "4fd9e27d",
   "metadata": {},
   "outputs": [],
   "source": [
    "The probability of the union of two events E and F (written E ∪ F \\displaystyle E\\cup F E∪F ) equals the sum of the probability\n",
    "k of E and the probability of F minus the probability of E and F occurring together ( which is called the intersection of\n",
    "E and F and is written as E ∩ F \\displaystyle E\\cap F E∩F )."
   ]
  },
  {
   "cell_type": "code",
   "execution_count": null,
   "id": "c6b282f3",
   "metadata": {},
   "outputs": [],
   "source": [
    "The union of two or more sets is the set that contains all the elements of the two or more sets. ...\n",
    "The general probability addition rule for the union of two events states that P(A∪B)=P(A)+P(B)−P(A∩B) P ( A ∪ B ) = \n",
    "P ( A ) + P ( B ) − P ( A ∩ B ) , where A∩B A ∩ B is the intersection of the two sets."
   ]
  },
  {
   "cell_type": "code",
   "execution_count": null,
   "id": "01a621ac",
   "metadata": {},
   "outputs": [],
   "source": [
    "the chain rule, or general product rule, calculates any component of the joint distribution of a set of random variables using\n",
    "only conditional probabilities. This probability theory is used as a foundation for backpropagation and in creating Bayesian \n",
    "networks."
   ]
  },
  {
   "cell_type": "code",
   "execution_count": null,
   "id": "2aef1de0",
   "metadata": {},
   "outputs": [],
   "source": [
    "Conditional probability is calculated by multiplying the probability of the preceding event by the updated probability of the \n",
    "succeeding, or conditional, event. For example: Event A is that an individual applying for college will be accepted. There is \n",
    "    an 80% chance that this individual will be accepted to college.\n",
    "    "
   ]
  },
  {
   "cell_type": "code",
   "execution_count": null,
   "id": "4ea819ba",
   "metadata": {},
   "outputs": [],
   "source": [
    "A continuous random variable is one which takes an infinite number of possible values. Continuous random variables are usually \n",
    "measurements. Examples include height, weight, the amount of sugar in an orange, the time required to run a mile"
   ]
  },
  {
   "cell_type": "code",
   "execution_count": null,
   "id": "bbc0cd19",
   "metadata": {},
   "outputs": [],
   "source": [
    "\n",
    "Image result for What are Bernoulli distributions? What is the formula of it?\n",
    "A Bernoulli distribution is a discrete probability distribution for a Bernoulli trial — a random experiment that has only two \n",
    "outcomes (usually called a “Success” or a “Failure”). ... The expected value for a random variable, X, for a Bernoulli\n",
    "distribution is: E[X] = p. For example, if p = . 04, then E[X] = 0.4"
   ]
  },
  {
   "cell_type": "code",
   "execution_count": null,
   "id": "2d7a129e",
   "metadata": {},
   "outputs": [],
   "source": [
    "The binomial distribution formula is for any random variable X, given by; P(x:n,p) = nCx x px (1-p)n-x Or P(x:n,p) = \n",
    "nCx x px (q)n-x, where, n is the number of experiments, p is probability of success in a single experiment, q is probability\n",
    "of failure in a single experiment (= 1 – p) and takes values as 0, 1, 2, 3, 4,"
   ]
  },
  {
   "cell_type": "code",
   "execution_count": null,
   "id": "b9fae742",
   "metadata": {},
   "outputs": [],
   "source": [
    "The Poisson Distribution formula is: P(x; μ) = (e-μ) (μx) / x! Let's say that that x (as in the prime counting function is a \n",
    "    very big number, like x = 10100. If you choose a random number that's less than or equal to x, the probability of that\n",
    "    number being prime is about 0.43 percent"
   ]
  },
  {
   "cell_type": "code",
   "execution_count": null,
   "id": "7253e069",
   "metadata": {},
   "outputs": [],
   "source": [
    "Covariance provides insight into how two variables are related to one another. More precisely, covariance refers to the measure \n",
    "of how two random variables in a data set will change together. A positive covariance means that the two variables at hand are\n",
    "positively related, and they move in the same direction."
   ]
  },
  {
   "cell_type": "code",
   "execution_count": null,
   "id": "c22ee590",
   "metadata": {},
   "outputs": [],
   "source": [
    "Correlation is a statistical measure that expresses the extent to which two variables are linearly related (meaning they change \n",
    "        together at a constant rate). It's a common tool for describing simple relationships without making a statement at because and effect."
   ]
  },
  {
   "cell_type": "code",
   "execution_count": null,
   "id": "04a828e3",
   "metadata": {},
   "outputs": [],
   "source": [
    "Sampling is called with replacement when a unit selected at random from the population is returned to the population and then \n",
    "a second element is selected at random. Whenever a unit is selected, the population contains all the same units, so a unit \n",
    "may be selected more than once."
   ]
  },
  {
   "cell_type": "code",
   "execution_count": null,
   "id": "009fe4bd",
   "metadata": {},
   "outputs": [],
   "source": [
    " In sampling without replacement, each sample unit of the population has only one chance to be selected in the sample. For\n",
    "    example, if one draws a simple random sample such that no unit occurs more than one time in the sample, the sample is\n",
    "    drawn without replacemen"
   ]
  },
  {
   "cell_type": "code",
   "execution_count": null,
   "id": "8c1b2647",
   "metadata": {},
   "outputs": [],
   "source": [
    "Here are some examples of hypothesis statements: If garlic repels fleas, then a dog that is given garlic every day will not get\n",
    "    fleas. Bacterial growth may be affected by moisture levels in the air. If sugar causes cavities, then people who eat a lot\n",
    "    of candy may be more prone to cavities"
   ]
  }
 ],
 "metadata": {
  "kernelspec": {
   "display_name": "Python 3",
   "language": "python",
   "name": "python3"
  },
  "language_info": {
   "codemirror_mode": {
    "name": "ipython",
    "version": 3
   },
   "file_extension": ".py",
   "mimetype": "text/x-python",
   "name": "python",
   "nbconvert_exporter": "python",
   "pygments_lexer": "ipython3",
   "version": "3.8.8"
  }
 },
 "nbformat": 4,
 "nbformat_minor": 5
}
